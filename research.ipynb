{
 "cells": [
  {
   "cell_type": "code",
   "execution_count": 1,
   "id": "d4e57617",
   "metadata": {},
   "outputs": [
    {
     "name": "stderr",
     "output_type": "stream",
     "text": [
      "2023-09-05 22:38:20.277579: I tensorflow/core/platform/cpu_feature_guard.cc:182] This TensorFlow binary is optimized to use available CPU instructions in performance-critical operations.\n",
      "To enable the following instructions: AVX2 FMA, in other operations, rebuild TensorFlow with the appropriate compiler flags.\n"
     ]
    }
   ],
   "source": [
    "# This Python 3 environment comes with many helpful analytics libraries installed\n",
    "# It is defined by the kaggle/python Docker image: https://github.com/kaggle/docker-python\n",
    "# For example, here's several helpful packages to load\n",
    "\n",
    "import numpy as np # linear algebra\n",
    "import pandas as pd # data processing, CSV file I/O (e.g. pd.read_csv)\n",
    "import matplotlib.pyplot as plt\n",
    "import seaborn as sns\n",
    "# Set custom styles for text color\n",
    "plt.rcParams['text.color'] = 'white'\n",
    "plt.rcParams['axes.labelcolor'] = 'white'\n",
    "plt.rcParams['axes.titlecolor'] = 'white'\n",
    "plt.rcParams['xtick.color'] = 'white'  # Color of the x-axis tick values\n",
    "plt.rcParams['ytick.color'] = 'white'  # Color of the y-axis tick values\n",
    "\n",
    "# tensorflow\n",
    "import tensorflow as tf\n",
    "import tensorflow_decision_forests as tfdf \n",
    "\n",
    "# feature engineering\n",
    "from sklearn.feature_selection import mutual_info_regression\n",
    "\n",
    "import datetime\n",
    "\n",
    "# For local run\n",
    "train = pd.read_csv('data/train.csv')\n",
    "test = pd.read_csv('data/test.csv')\n",
    "\n",
    "# For kaggle run\n",
    "# train = pd.read_csv('/kaggle/input/house-prices-advanced-regression-techniques/train.csv')\n",
    "# test = pd.read_csv('/kaggle/input/house-prices-advanced-regression-techniques/test.csv')"
   ]
  },
  {
   "cell_type": "code",
   "execution_count": 2,
   "id": "bed565c8",
   "metadata": {},
   "outputs": [
    {
     "data": {
      "text/html": [
       "<div>\n",
       "<style scoped>\n",
       "    .dataframe tbody tr th:only-of-type {\n",
       "        vertical-align: middle;\n",
       "    }\n",
       "\n",
       "    .dataframe tbody tr th {\n",
       "        vertical-align: top;\n",
       "    }\n",
       "\n",
       "    .dataframe thead th {\n",
       "        text-align: right;\n",
       "    }\n",
       "</style>\n",
       "<table border=\"1\" class=\"dataframe\">\n",
       "  <thead>\n",
       "    <tr style=\"text-align: right;\">\n",
       "      <th></th>\n",
       "      <th>Id</th>\n",
       "      <th>SalePrice</th>\n",
       "    </tr>\n",
       "  </thead>\n",
       "  <tbody>\n",
       "    <tr>\n",
       "      <th>0</th>\n",
       "      <td>1461</td>\n",
       "      <td>169277.052498</td>\n",
       "    </tr>\n",
       "    <tr>\n",
       "      <th>1</th>\n",
       "      <td>1462</td>\n",
       "      <td>187758.393989</td>\n",
       "    </tr>\n",
       "    <tr>\n",
       "      <th>2</th>\n",
       "      <td>1463</td>\n",
       "      <td>183583.683570</td>\n",
       "    </tr>\n",
       "    <tr>\n",
       "      <th>3</th>\n",
       "      <td>1464</td>\n",
       "      <td>179317.477511</td>\n",
       "    </tr>\n",
       "    <tr>\n",
       "      <th>4</th>\n",
       "      <td>1465</td>\n",
       "      <td>150730.079977</td>\n",
       "    </tr>\n",
       "  </tbody>\n",
       "</table>\n",
       "</div>"
      ],
      "text/plain": [
       "     Id      SalePrice\n",
       "0  1461  169277.052498\n",
       "1  1462  187758.393989\n",
       "2  1463  183583.683570\n",
       "3  1464  179317.477511\n",
       "4  1465  150730.079977"
      ]
     },
     "execution_count": 2,
     "metadata": {},
     "output_type": "execute_result"
    }
   ],
   "source": [
    "submission = pd.read_csv('data/sample_submission.csv')\n",
    "submission.head()"
   ]
  },
  {
   "cell_type": "code",
   "execution_count": 3,
   "id": "8db84db6",
   "metadata": {},
   "outputs": [],
   "source": [
    "# code for subplots\n",
    "# data_num = data.select_dtypes(include=['int64', 'float64'])\n",
    "# data_num.hist(figsize=(16,20), bins=50, xlabelsize=8, ylabelsize=8);"
   ]
  },
  {
   "cell_type": "code",
   "execution_count": 4,
   "id": "21977921",
   "metadata": {},
   "outputs": [],
   "source": [
    "target = train.columns.to_list()[-1]\n",
    "train_target = train[target]\n",
    "train_target_log = np.log1p(train_target)"
   ]
  },
  {
   "cell_type": "code",
   "execution_count": null,
   "id": "5fcc9f06",
   "metadata": {},
   "outputs": [],
   "source": [
    "# normalization helps cause sale price is a bit skewed\n",
    "plt.figure(figsize=(8,4))\n",
    "sns.histplot(train_target, color='g', bins=100, kde=True)\n",
    "plt.title('Original')\n",
    "plt.show()\n",
    "\n",
    "plt.figure(figsize=(8,4))\n",
    "sns.histplot(train_target_log, color='g', bins=100, kde=True)\n",
    "plt.title('Log')\n",
    "plt.show()"
   ]
  },
  {
   "cell_type": "code",
   "execution_count": null,
   "id": "c9623b72",
   "metadata": {},
   "outputs": [],
   "source": [
    "train_target = train_target_log\n",
    "train.drop(target, axis=1, inplace=True)\n",
    "train_id = train['Id']\n",
    "test_id = test['Id']\n",
    "# cause Ids shouldn't go in model\n",
    "train.drop('Id', axis=1, inplace=True)\n",
    "test.drop('Id', axis=1, inplace=True)\n",
    "random_seed = 1\n",
    "\n",
    "# since feature engineering should be on both\n",
    "combined = pd.concat([train, test], axis=0)"
   ]
  },
  {
   "cell_type": "markdown",
   "id": "4e4e30c3",
   "metadata": {},
   "source": [
    "### Feature engineering"
   ]
  },
  {
   "cell_type": "code",
   "execution_count": null,
   "id": "05c543e3",
   "metadata": {},
   "outputs": [],
   "source": [
    "cat_handle = 1\n",
    "num_handle = 1\n",
    "\n",
    "if cat_handle == 1:\n",
    "    cat_handle = 'FillWithMedian'\n",
    "else:\n",
    "    cat_handle = 'GetDummies'\n",
    "    \n",
    "if num_handle == 1:\n",
    "    num_handle = 'log1p'\n",
    "else:\n",
    "    num_handle = 'BoxCox'"
   ]
  },
  {
   "cell_type": "code",
   "execution_count": null,
   "id": "347751ba",
   "metadata": {},
   "outputs": [],
   "source": [
    "combined.info()"
   ]
  },
  {
   "cell_type": "code",
   "execution_count": null,
   "id": "3873d7c7",
   "metadata": {},
   "outputs": [],
   "source": [
    "data_num = combined.select_dtypes(include=['int64', 'float64'])\n",
    "data_num.hist(figsize=(16,20), bins=50, xlabelsize=8, ylabelsize=8);"
   ]
  },
  {
   "cell_type": "code",
   "execution_count": null,
   "id": "430737df",
   "metadata": {},
   "outputs": [],
   "source": [
    "# MSSubClass is cateogorical not numerical\n",
    "combined['MSSubClass'] = combined['MSSubClass'].astype('object')\n",
    "combined['MoSold'] = combined['MoSold'].astype('object')"
   ]
  },
  {
   "cell_type": "code",
   "execution_count": null,
   "id": "2238ac52",
   "metadata": {},
   "outputs": [],
   "source": [
    "# Ordinal features, features that have a ranking\n",
    "# Convert these to numerical, cause then there is comparison rather than grouping\n",
    "\n",
    "col_ord = ['ExterQual', 'ExterCond', 'BsmtQual', 'BsmtCond', 'HeatingQC', 'KitchenQual',\n",
    "          'GarageQual', 'GarageCond', 'PoolQC', 'FireplaceQu']\n",
    "# print('Unique values', combined[col_ord].stack().unique())\n",
    "\n",
    "for col in col_ord:\n",
    "    combined[col] = combined[col].map({np.nan: 0, 'Po': 1, 'Fa': 2, 'TA': 3, 'Gd': 4, 'Ex': 5})\n",
    "    \n",
    "# interesting point though, should mapping be based on ordinal ranking or their mean ranking\n",
    "combined['BsmtFinType1'] = combined['BsmtFinType1'].map({np.nan: 0, 'Unf': 5, 'LwQ': 1, \n",
    "                                                         'BLQ': 2, 'Rec': 3, \n",
    "                                                         'ALQ': 4, 'GLQ': 6})\n",
    "combined['BsmtFinType2'] = combined['BsmtFinType2'].map({np.nan: 0, 'Unf': 5, 'LwQ': 1, \n",
    "                                                         'BLQ': 2, 'Rec': 3, \n",
    "                                                         'ALQ': 4, 'GLQ': 6})\n",
    "combined['Functional'] = combined['Functional'].map({np.nan: 0, 'Sev': 1, 'Maj2': 2, \n",
    "                                                     'Maj1': 3, 'Mod': 4, \n",
    "                                                     'Min2': 5, 'Min1': 6, 'Typ': 7})\n",
    "combined['Fence'] = combined['Fence'].map({np.nan: 0, 'MnWw': 1, 'MnPrv': 2, \n",
    "                                           'GdWo': 3, 'GdPrv': 4})\n",
    "combined['BsmtExposure'] = combined['BsmtExposure'].map({np.nan:0, 'No': 1, \n",
    "                                                         'Mn': 2, 'Av': 3, 'Gd': 4})\n",
    "combined['GarageFinish'] = combined['GarageFinish'].map({np.nan: 0, 'Unf': 1, \n",
    "                                                         'RFn': 2, 'Fin': 3})"
   ]
  },
  {
   "cell_type": "code",
   "execution_count": null,
   "id": "82cd9e81",
   "metadata": {},
   "outputs": [],
   "source": [
    "# visualize to help understand the distribution rnaking\n",
    "col = 'GarageFinish'\n",
    "X = combined[:train_id.shape[0]][[col]]\n",
    "X['SalePrice'] = train_target\n",
    "\n",
    "plt.figure(figsize=(12,8))\n",
    "sns.violinplot(x=col, y=\"SalePrice\", palette=\"Set1\", data=X)\n",
    "\n",
    "plt.figure(figsize=(12,8))\n",
    "sns.boxplot(x=col, y=\"SalePrice\", palette=\"Set1\", data=X)"
   ]
  },
  {
   "cell_type": "code",
   "execution_count": null,
   "id": "ec7efcb4",
   "metadata": {},
   "outputs": [],
   "source": [
    "# fill with None/0\n",
    "col_cat_NA = ['Alley', 'GarageType', 'GarageFinish', 'MiscFeature']\n",
    "for col in col_cat_NA:\n",
    "    combined[col].fillna('None', inplace=True)\n",
    "    \n",
    "col_num_NA = ['BsmtFullBath', 'BsmtHalfBath', 'BsmtUnfSF', 'BsmtFinSF2', 'BsmtFinSF1']\n",
    "for col in col_num_NA:\n",
    "    combined[col].fillna(0, inplace=True)\n",
    "    \n",
    "# based on neighborhood\n",
    "col_nul_nbr = ['LotFrontage', 'GarageCars', 'GarageArea']\n",
    "for col in col_nul_nbr:\n",
    "    combined[col] = combined.groupby(\n",
    "        'Neighborhood')[col].transform(lambda x: x.fillna(x.median()))\n",
    "    \n",
    "# based on neighborhood and overall quality\n",
    "col_cat_nbr_ovrlqual = ['Utilities', 'Exterior1st', 'Exterior2nd', 'MasVnrType',\n",
    "                       'Electrical', 'SaleType']\n",
    "for col in col_cat_nbr_ovrlqual:\n",
    "    combined[col] = combined.groupby(\n",
    "        ['Neighborhood', 'OverallQual'])[col].transform(\n",
    "        lambda x: x.fillna(x.mode()[0]))\n",
    "    \n",
    "col_num_nbr_ovrlqual = ['MasVnrArea']\n",
    "for col in col_num_nbr_ovrlqual:\n",
    "    combined[col] = combined.groupby(\n",
    "        ['Neighborhood', 'OverallQual'])[col].transform(lambda x: x.fillna(x.mean()))\n",
    "    \n",
    "# based on MSSubClass\n",
    "combined['MSZoning'] = combined.groupby(\n",
    "    'MSSubClass')['MSZoning'].transform(lambda x: x.fillna(x.mode()[0]))\n",
    "\n",
    "# basement surface area from other features\n",
    "combined['TotalBsmtSF'].fillna(combined['BsmtFinSF1'] + \n",
    "                               combined['BsmtFinSF2'] + \n",
    "                               combined['BsmtUnfSF'], inplace=True)\n",
    "\n",
    "# come back to this later!!!!!!!!!!!!!!!!!!!!!\n",
    "combined['GarageYrBlt'].fillna(combined['YearBuilt'], inplace=True)"
   ]
  },
  {
   "cell_type": "code",
   "execution_count": null,
   "id": "9c2e8cad",
   "metadata": {},
   "outputs": [],
   "source": [
    "combined.info()"
   ]
  },
  {
   "cell_type": "code",
   "execution_count": null,
   "id": "c33bd795",
   "metadata": {},
   "outputs": [],
   "source": [
    "# support functions\n",
    "# check remaning nulls\n",
    "combined.isnull().sum()[combined.isnull().sum()>0].sort_values(ascending=False)\n",
    "# np.unique(combined['Fence'], return_counts=True)\n",
    "# for col in col_year:\n",
    "#     display(combined[col].sort_values())"
   ]
  },
  {
   "cell_type": "code",
   "execution_count": null,
   "id": "c4c42539",
   "metadata": {},
   "outputs": [],
   "source": [
    "# add some features, some of these features have very high frequency of one value\n",
    "combined['TotalSF'] = combined['TotalBsmtSF'] + combined['1stFlrSF'] + combined['2ndFlrSF']\n",
    "combined['HasWoodDeck'] = (combined['WoodDeckSF']==0)*1\n",
    "combined['HasOpenPorch'] = (combined['OpenPorchSF']==0)*1\n",
    "combined['HasEnclosedPorch'] = (combined['EnclosedPorch']==0)*1\n",
    "combined['HasPool'] = (combined['PoolArea']==0)*1\n",
    "# like 2882 counts of 0\n",
    "combined['Has3SsnPorch'] = (combined['3SsnPorch']==0)*1\n",
    "combined['TotalBath'] = (combined['BsmtFullBath'] + combined['BsmtHalfBath']*0.5 + \n",
    "                         combined['FullBath'] + combined['HalfBath']*0.5)\n",
    "combined['TotalProch'] = (combined['WoodDeckSF'] + combined['OpenPorchSF'] + \n",
    "                          combined['EnclosedPorch'] + combined['3SsnPorch'] + \n",
    "                          combined['ScreenPorch'])"
   ]
  },
  {
   "cell_type": "code",
   "execution_count": null,
   "id": "e7ebad7d",
   "metadata": {},
   "outputs": [],
   "source": [
    "# correct outliers/inaccuracy\n",
    "combined.loc[combined['GarageYrBlt']==2207, 'GarageYrBlt'] = 2007"
   ]
  },
  {
   "cell_type": "code",
   "execution_count": null,
   "id": "1f74bf38",
   "metadata": {},
   "outputs": [],
   "source": [
    "col_year = ['GarageYrBlt', 'YearBuilt', 'YearRemodAdd', 'YrSold']\n",
    "current_year = datetime.datetime.now().year\n",
    "for col in col_year:\n",
    "    combined[col] = current_year - combined[col]"
   ]
  },
  {
   "cell_type": "markdown",
   "id": "1df82bc9",
   "metadata": {},
   "source": [
    "### Model design"
   ]
  },
  {
   "cell_type": "code",
   "execution_count": null,
   "id": "83a06c69",
   "metadata": {},
   "outputs": [],
   "source": [
    "train = combined.iloc[:train_id.shape[0]]\n",
    "test = combined.iloc[-test_id.shape[0]:]\n",
    "train[target] = train_target"
   ]
  },
  {
   "cell_type": "code",
   "execution_count": null,
   "id": "1fa1a492",
   "metadata": {},
   "outputs": [],
   "source": [
    "def train_test_split(data, test_ratio = 0.3):\n",
    "    test_indices = np.random.rand(data.shape[0]) < test_ratio\n",
    "    return data[~test_indices], data[test_indices]\n",
    "\n",
    "train_data, test_data = train_test_split(train)\n",
    "print('{} samples in training data, {} in testing'.format(\n",
    "    train_data.shape[0],test_data.shape[0]))"
   ]
  },
  {
   "cell_type": "code",
   "execution_count": null,
   "id": "ef14ace2",
   "metadata": {},
   "outputs": [],
   "source": [
    "# convert to tensorflow datasets\n",
    "train_data = tfdf.keras.pd_dataframe_to_tf_dataset(train_data, label=target,\n",
    "                                                  task=tfdf.keras.Task.REGRESSION)\n",
    "test_data = tfdf.keras.pd_dataframe_to_tf_dataset(test_data, label=target,\n",
    "                                                 task=tfdf.keras.Task.REGRESSION)"
   ]
  },
  {
   "cell_type": "markdown",
   "id": "6a7a0902",
   "metadata": {},
   "source": [
    "Model: TFDF"
   ]
  },
  {
   "cell_type": "code",
   "execution_count": null,
   "id": "05be405b",
   "metadata": {},
   "outputs": [],
   "source": [
    "rf = tfdf.keras.RandomForestModel(task = tfdf.keras.Task.REGRESSION)\n",
    "rf.compile(metrics='mse')"
   ]
  },
  {
   "cell_type": "code",
   "execution_count": null,
   "id": "b7e8efe7",
   "metadata": {},
   "outputs": [],
   "source": [
    "rf.fit(x=train_data)"
   ]
  },
  {
   "cell_type": "code",
   "execution_count": null,
   "id": "26c320d6",
   "metadata": {},
   "outputs": [],
   "source": [
    "# tfdf.model_plotter.plot_model_in_colab(rf, max_depth=5, tree_idx=0)"
   ]
  },
  {
   "cell_type": "code",
   "execution_count": null,
   "id": "1ccdd4a4",
   "metadata": {},
   "outputs": [],
   "source": [
    "inspector = rf.make_inspector()\n",
    "logs = inspector.training_logs()\n",
    "display(logs)"
   ]
  },
  {
   "cell_type": "code",
   "execution_count": null,
   "id": "f230a11f",
   "metadata": {},
   "outputs": [],
   "source": [
    "plt.plot([log.num_trees for log in logs], [log.evaluation.rmse for log in logs])\n",
    "plt.xlabel('# of trees')\n",
    "plt.ylabel('rmse')\n",
    "plt.show()"
   ]
  },
  {
   "cell_type": "code",
   "execution_count": null,
   "id": "0d44a971",
   "metadata": {},
   "outputs": [],
   "source": [
    "inspector.evaluation()"
   ]
  },
  {
   "cell_type": "code",
   "execution_count": null,
   "id": "eac21561",
   "metadata": {},
   "outputs": [],
   "source": [
    "# let's evaluate using our testing set\n",
    "evaluation = rf.evaluate(x=test_data, return_dict=True)\n",
    "display(evaluation)"
   ]
  },
  {
   "cell_type": "markdown",
   "id": "1a36d9d7",
   "metadata": {},
   "source": [
    "Random Forest Variable Importance"
   ]
  },
  {
   "cell_type": "code",
   "execution_count": null,
   "id": "0c6f75d3",
   "metadata": {},
   "outputs": [],
   "source": [
    "inspector.variable_importances().keys()"
   ]
  },
  {
   "cell_type": "code",
   "execution_count": null,
   "id": "c3caa57e",
   "metadata": {},
   "outputs": [],
   "source": [
    "inspector.variable_importances()['SUM_SCORE'][0:5]"
   ]
  },
  {
   "cell_type": "code",
   "execution_count": null,
   "id": "317e2c3b",
   "metadata": {
    "scrolled": false
   },
   "outputs": [],
   "source": [
    "plt.figure(figsize=(12,8))\n",
    "\n",
    "var_importance_metric = 'SUM_SCORE'\n",
    "var_importances = inspector.variable_importances()[var_importance_metric]\n",
    "\n",
    "feature_names = [v[0].name for v in var_importances][0:10]\n",
    "feature_importance = [v[1] for v in var_importances][0:10]\n",
    "\n",
    "# since they are in descending importance already\n",
    "feature_ranks = range(len(feature_names))\n",
    "\n",
    "bar = plt.barh(feature_names, feature_importance, label=[str(x) for x in feature_ranks])\n",
    "plt.yticks(feature_ranks, feature_names)\n",
    "plt.gca().invert_yaxis() # inverses order of bars appearing\n",
    "\n",
    "for importance, patch in zip(feature_importance, bar.patches):\n",
    "    plt.text(patch.get_x() + patch.get_width(), patch.get_y(), f\"{importance/1e12:.0f}T\", va=\"top\")\n",
    "\n",
    "plt.xlabel('Importance')\n",
    "plt.title(var_importance_metric + ' feature importance')\n",
    "plt.tight_layout()\n",
    "plt.show()"
   ]
  },
  {
   "cell_type": "markdown",
   "id": "55475e2a",
   "metadata": {},
   "source": [
    "Predictions"
   ]
  },
  {
   "cell_type": "code",
   "execution_count": null,
   "id": "8dbc5ef4",
   "metadata": {},
   "outputs": [],
   "source": [
    "test.head()"
   ]
  },
  {
   "cell_type": "code",
   "execution_count": null,
   "id": "6c07cb55",
   "metadata": {},
   "outputs": [],
   "source": [
    "test.shape"
   ]
  },
  {
   "cell_type": "code",
   "execution_count": null,
   "id": "c78a13dc",
   "metadata": {},
   "outputs": [],
   "source": [
    "test = tfdf.keras.pd_dataframe_to_tf_dataset(test, task=tfdf.keras.Task.REGRESSION)\n",
    "predictions = rf.predict(test)\n",
    "output = pd.DataFrame({'Id':test_id, 'SalePrice': predictions.squeeze()})\n",
    "\n",
    "# undo the log, essentially do expo\n",
    "output['SalePrice'] = np.expm1(output['SalePrice'])\n",
    "output"
   ]
  },
  {
   "cell_type": "code",
   "execution_count": null,
   "id": "414ac055",
   "metadata": {},
   "outputs": [],
   "source": [
    "submission.loc[submission['Id'].isin(output['Id']), 'SalePrice'] = output['SalePrice']\n",
    "submission"
   ]
  },
  {
   "cell_type": "code",
   "execution_count": null,
   "id": "c102cff5",
   "metadata": {},
   "outputs": [],
   "source": [
    "submission.to_csv('data/submission.csv', index=False)"
   ]
  },
  {
   "cell_type": "code",
   "execution_count": null,
   "id": "062486ae",
   "metadata": {},
   "outputs": [],
   "source": []
  }
 ],
 "metadata": {
  "kernelspec": {
   "display_name": "Python 3 (ipykernel)",
   "language": "python",
   "name": "python3"
  },
  "language_info": {
   "codemirror_mode": {
    "name": "ipython",
    "version": 3
   },
   "file_extension": ".py",
   "mimetype": "text/x-python",
   "name": "python",
   "nbconvert_exporter": "python",
   "pygments_lexer": "ipython3",
   "version": "3.9.6"
  }
 },
 "nbformat": 4,
 "nbformat_minor": 5
}
